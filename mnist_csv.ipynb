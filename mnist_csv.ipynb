{
  "cells": [
    {
      "cell_type": "code",
      "execution_count": 1,
      "metadata": {
        "id": "B0IZlSLvZeMC"
      },
      "outputs": [],
      "source": [
        "import pandas as pd\n",
        "import numpy as np\n",
        "import matplotlib.pyplot as plt\n",
        "import seaborn as sns\n",
        "from sklearn.model_selection import train_test_split, RandomizedSearchCV\n",
        "from sklearn.linear_model import LogisticRegression\n",
        "from sklearn.svm import SVC\n",
        "from sklearn.tree import DecisionTreeClassifier\n",
        "from sklearn.metrics import accuracy_score, classification_report,ConfusionMatrixDisplay, \\\n",
        "                            precision_score, recall_score, f1_score,confusion_matrix,roc_auc_score\n",
        "from sklearn.utils import resample"
      ]
    },
    {
      "cell_type": "markdown",
      "metadata": {
        "id": "hhMm16_wbCE5"
      },
      "source": [
        "### Data Loading"
      ]
    },
    {
      "cell_type": "code",
      "execution_count": 2,
      "metadata": {
        "id": "dzbo8LLFZ_y-"
      },
      "outputs": [],
      "source": [
        "\n",
        "# Set random seed\n",
        "np.random.seed(42)\n",
        "\n",
        "# Load the dataset\n",
        "train_df = pd.read_csv('/content/drive/MyDrive/Deep Learning/Mnist_csv/mnist_train.csv')\n",
        "test_df = pd.read_csv('/content/drive/MyDrive/Deep Learning/Mnist_csv/mnist_test.csv')\n"
      ]
    },
    {
      "cell_type": "code",
      "execution_count": 3,
      "metadata": {
        "colab": {
          "base_uri": "https://localhost:8080/"
        },
        "id": "fRQNSRrfabs7",
        "outputId": "313f5a71-d590-4992-9230-415539ae10ee"
      },
      "outputs": [
        {
          "output_type": "execute_result",
          "data": {
            "text/plain": [
              "((60000, 785), (10000, 785))"
            ]
          },
          "metadata": {},
          "execution_count": 3
        }
      ],
      "source": [
        "train_df.shape, test_df.shape"
      ]
    },
    {
      "cell_type": "markdown",
      "metadata": {
        "id": "COP5zbhObGDH"
      },
      "source": [
        "### Data Exploration"
      ]
    },
    {
      "cell_type": "code",
      "execution_count": 4,
      "metadata": {
        "colab": {
          "base_uri": "https://localhost:8080/"
        },
        "id": "Yts2K25iah4D",
        "outputId": "0f2f2be9-417d-462f-f697-cd8d636acde3"
      },
      "outputs": [
        {
          "output_type": "stream",
          "name": "stdout",
          "text": [
            "Total samples: 70000\n",
            "Number of features: 784\n",
            "Target classes: [np.int64(0), np.int64(1), np.int64(2), np.int64(3), np.int64(4), np.int64(5), np.int64(6), np.int64(7), np.int64(8), np.int64(9)]\n",
            "\n",
            "Class distribution:\n",
            "label\n",
            "0    6903\n",
            "1    7877\n",
            "2    6990\n",
            "3    7141\n",
            "4    6824\n",
            "5    6313\n",
            "6    6876\n",
            "7    7293\n",
            "8    6825\n",
            "9    6958\n",
            "Name: count, dtype: int64\n"
          ]
        }
      ],
      "source": [
        "# Combine train and test for initial exploration\n",
        "df = pd.concat([train_df, test_df], axis=0)\n",
        "\n",
        "\n",
        "print(\"Total samples:\", len(df))\n",
        "print(\"Number of features:\", df.shape[1] - 1)  # minus the label column\n",
        "print(\"Target classes:\", sorted(df['label'].unique()))\n",
        "print(\"\\nClass distribution:\")\n",
        "print(df['label'].value_counts().sort_index())"
      ]
    },
    {
      "cell_type": "markdown",
      "metadata": {
        "id": "OotWzAC5bey8"
      },
      "source": [
        "### Data Visualization"
      ]
    },
    {
      "cell_type": "code",
      "execution_count": 5,
      "metadata": {
        "colab": {
          "base_uri": "https://localhost:8080/",
          "height": 157
        },
        "id": "gFLCvGYjbcsD",
        "outputId": "36cce527-73e0-4f45-9ca6-c69969d57c60"
      },
      "outputs": [
        {
          "output_type": "display_data",
          "data": {
            "text/plain": [
              "<Figure size 1500x300 with 10 Axes>"
            ],
            "image/png": "[encoded data removed]"
          },
          "metadata": {}
        }
      ],
      "source": [
        "# Display sample images\n",
        "def plot_digits(data, num_images=10):\n",
        "    fig, axes = plt.subplots(1, num_images, figsize=(15, 3))\n",
        "    for i, ax in enumerate(axes):\n",
        "        img = data.iloc[i, 1:].values.reshape(28, 28)\n",
        "        ax.imshow(img, cmap='gray')\n",
        "        ax.set_title(f\"Label: {data.iloc[i, 0]}\")\n",
        "        ax.axis('off')\n",
        "    plt.show()\n",
        "\n",
        "# Plot first 10 digits from training set\n",
        "plot_digits(train_df)"
      ]
    },
    {
      "cell_type": "markdown",
      "metadata": {
        "id": "NNW7dhk4b3bt"
      },
      "source": [
        "### Data Preprocessing"
      ]
    },
    {
      "cell_type": "code",
      "execution_count": 6,
      "metadata": {
        "id": "tbWSY_ZIb7hi"
      },
      "outputs": [],
      "source": [
        "# Separate features and labels\n",
        "X_train = train_df.drop('label', axis=1).values\n",
        "y_train = train_df['label'].values\n",
        "X_test = test_df.drop('label', axis=1).values\n",
        "y_test = test_df['label'].values\n",
        "\n",
        "# Normalize pixel values to [0, 1]\n",
        "X_train = X_train / 255.0\n",
        "X_test = X_test / 255.0"
      ]
    },
    {
      "cell_type": "code",
      "execution_count": 7,
      "metadata": {
        "colab": {
          "base_uri": "https://localhost:8080/"
        },
        "id": "ZpwCzcFGcFrM",
        "outputId": "cc597ba5-6d43-444a-ac22-a53e3a60a929"
      },
      "outputs": [
        {
          "output_type": "execute_result",
          "data": {
            "text/plain": [
              "(60000, 784)"
            ]
          },
          "metadata": {},
          "execution_count": 7
        }
      ],
      "source": [
        "X_train.shape"
      ]
    },
    {
      "cell_type": "markdown",
      "metadata": {
        "id": "14bxY0mvch5M"
      },
      "source": [
        "### Model Training & Evluation"
      ]
    },
    {
      "cell_type": "code",
      "execution_count": 8,
      "metadata": {
        "colab": {
          "base_uri": "https://localhost:8080/"
        },
        "id": "2rTsXEaYcKeC",
        "outputId": "be20d14a-b588-4ce6-dc75-df8a82820379"
      },
      "outputs": [
        {
          "output_type": "stream",
          "name": "stderr",
          "text": [
            "/usr/local/lib/python3.11/dist-packages/sklearn/linear_model/_logistic.py:465: ConvergenceWarning: lbfgs failed to converge (status=1):\n",
            "STOP: TOTAL NO. OF ITERATIONS REACHED LIMIT.\n",
            "\n",
            "Increase the number of iterations (max_iter) or scale the data as shown in:\n",
            "    https://scikit-learn.org/stable/modules/preprocessing.html\n",
            "Please also refer to the documentation for alternative solver options:\n",
            "    https://scikit-learn.org/stable/modules/linear_model.html#logistic-regression\n",
            "  n_iter_i = _check_optimize_result(\n"
          ]
        },
        {
          "output_type": "stream",
          "name": "stdout",
          "text": [
            "Logisitic Regression\n",
            "Model performance for Training set\n",
            "- Accuracy: 0.9351\n",
            "- F1 score: 0.9350\n",
            "- Precision: 0.9349\n",
            "- Recall: 0.9351\n",
            "- Confusion Matrix:\n",
            "[[5768    1   13    8   13   40   33    8   35    4]\n",
            " [   1 6581   29   19    6   26    3   13   54   10]\n",
            " [  25   50 5444   91   62   24   59   57  122   24]\n",
            " [  17   24  118 5558    7  184   16   48  116   43]\n",
            " [  11   24   24    9 5506    7   49   19   34  159]\n",
            " [  48   19   38  146   45 4883   75   18  112   37]\n",
            " [  27   13   38    1   35   65 5710    5   21    3]\n",
            " [   8   20   62   23   41   10    4 5917   16  164]\n",
            " [  26   96   56  130   24  135   37   17 5275   55]\n",
            " [  21   26   14   67  130   33    3  149   45 5461]]\n",
            "----------------------------------\n",
            "Model performance for Test set\n",
            "- Accuracy: 0.9257\n",
            "- F1 score: 0.9256\n",
            "- Precision: 0.9256\n",
            "- Recall: 0.9257\n",
            "- Confusion Matrix:\n",
            "[[ 959    0    0    3    1    7    5    4    1    0]\n",
            " [   0 1111    4    2    0    2    3    2   11    0]\n",
            " [   6    9  926   16    9    4   13    6   39    4]\n",
            " [   4    1   18  917    1   22    4   11   25    7]\n",
            " [   1    1    7    3  914    0   10    4   10   32]\n",
            " [  10    2    3   34    7  783   14    6   29    4]\n",
            " [   9    3    8    2    7   14  912    2    1    0]\n",
            " [   1    8   24    5    7    1    0  950    3   29]\n",
            " [   9   11    8   23    7   25   12    7  860   12]\n",
            " [   9    8    0   11   24    6    0   19    7  925]]\n",
            "===================================\n",
            "\n",
            "\n",
            "Decision Tree\n",
            "Model performance for Training set\n",
            "- Accuracy: 1.0000\n",
            "- F1 score: 1.0000\n",
            "- Precision: 1.0000\n",
            "- Recall: 1.0000\n",
            "- Confusion Matrix:\n",
            "[[5923    0    0    0    0    0    0    0    0    0]\n",
            " [   0 6742    0    0    0    0    0    0    0    0]\n",
            " [   0    0 5958    0    0    0    0    0    0    0]\n",
            " [   0    0    0 6131    0    0    0    0    0    0]\n",
            " [   0    0    0    0 5842    0    0    0    0    0]\n",
            " [   0    0    0    0    0 5421    0    0    0    0]\n",
            " [   0    0    0    0    0    0 5918    0    0    0]\n",
            " [   0    0    0    0    0    0    0 6265    0    0]\n",
            " [   0    0    0    0    0    0    0    0 5851    0]\n",
            " [   0    0    0    0    0    0    0    0    0 5949]]\n",
            "----------------------------------\n",
            "Model performance for Test set\n",
            "- Accuracy: 0.8754\n",
            "- F1 score: 0.8753\n",
            "- Precision: 0.8753\n",
            "- Recall: 0.8754\n",
            "- Confusion Matrix:\n",
            "[[ 914    1    7    4    6    9   16    5    8   10]\n",
            " [   0 1084    9    8    2    9    5    3   14    1]\n",
            " [  13   11  887   29   15    6    9   24   30    8]\n",
            " [   7    8   34  861    8   40    3    6   17   26]\n",
            " [   8    4   11    6  858    5   18   10   20   42]\n",
            " [  15    8    5   39    6  740   25    6   32   16]\n",
            " [  21    5   11    9   23   15  846    3   20    5]\n",
            " [   2    7   21   24   12    5    3  925    9   20]\n",
            " [   8    9   33   34   21   32   14   12  785   26]\n",
            " [  14    5   10   22   45   10    6   20   23  854]]\n",
            "===================================\n",
            "\n",
            "\n",
            "SVC\n",
            "Model performance for Training set\n",
            "- Accuracy: 0.9899\n",
            "- F1 score: 0.9899\n",
            "- Precision: 0.9899\n",
            "- Recall: 0.9899\n",
            "- Confusion Matrix:\n",
            "[[5902    1    1    1    3    2    4    0    5    4]\n",
            " [   1 6705   11    1    4    0    1   10    3    6]\n",
            " [   5    5 5910    3   10    0    1   15    6    3]\n",
            " [   1    2   22 6032    0   23    1   18   20   12]\n",
            " [   2    9    5    0 5781    0    9    3    2   31]\n",
            " [   5    1    5   22    6 5361   13    0    4    4]\n",
            " [   8    2    1    0    5    4 5894    0    4    0]\n",
            " [   2   20   17    0   17    0    0 6182    3   24]\n",
            " [   3   14    9    8    6   12    2    5 5786    6]\n",
            " [   8    8    1   13   36    5    1   27    8 5842]]\n",
            "----------------------------------\n",
            "Model performance for Test set\n",
            "- Accuracy: 0.9792\n",
            "- F1 score: 0.9792\n",
            "- Precision: 0.9792\n",
            "- Recall: 0.9792\n",
            "- Confusion Matrix:\n",
            "[[ 973    0    1    0    0    2    1    1    2    0]\n",
            " [   0 1126    3    1    0    1    1    1    2    0]\n",
            " [   6    1 1006    2    1    0    2    7    6    1]\n",
            " [   0    0    2  995    0    2    0    5    5    1]\n",
            " [   0    0    5    0  961    0    3    0    2   11]\n",
            " [   2    0    0    9    0  871    4    1    4    1]\n",
            " [   6    2    0    0    2    3  944    0    1    0]\n",
            " [   0    6   11    1    1    0    0  996    2   11]\n",
            " [   3    0    2    6    3    2    2    3  950    3]\n",
            " [   3    4    1    7   10    2    1    7    4  970]]\n",
            "===================================\n",
            "\n",
            "\n"
          ]
        }
      ],
      "source": [
        "models={\n",
        "    \"Logisitic Regression\":LogisticRegression(),\n",
        "    \"Decision Tree\":DecisionTreeClassifier(),\n",
        "    \"SVC\": SVC()\n",
        "}\n",
        "for i in range(len(list(models))):\n",
        "    model = list(models.values())[i]\n",
        "    model.fit(X_train, y_train) # Train model\n",
        "\n",
        "    # Make predictions\n",
        "    y_train_pred = model.predict(X_train)\n",
        "    y_test_pred = model.predict(X_test)\n",
        "\n",
        "    # Training set performance\n",
        "    model_train_accuracy = accuracy_score(y_train, y_train_pred) # Calculate Accuracy\n",
        "    model_train_f1 = f1_score(y_train, y_train_pred, average='weighted') # Calculate F1-score\n",
        "    model_train_precision = precision_score(y_train, y_train_pred, average='weighted')\n",
        "    model_train_recall = recall_score(y_train, y_train_pred, average='weighted')\n",
        "    model_train_conf_matrix = confusion_matrix(y_train, y_train_pred)\n",
        "\n",
        "    # Test set performance\n",
        "    model_test_accuracy = accuracy_score(y_test, y_test_pred) # Calculate Accuracy\n",
        "    model_test_f1 = f1_score(y_test, y_test_pred, average='weighted') # Calculate F1-score\n",
        "    model_test_precision = precision_score(y_test, y_test_pred, average='weighted')\n",
        "    model_test_recall = recall_score(y_test, y_test_pred, average='weighted')\n",
        "    model_test_conf_matrix = confusion_matrix(y_test, y_test_pred)\n",
        "\n",
        "\n",
        "    print(list(models.keys())[i])\n",
        "\n",
        "    print('Model performance for Training set')\n",
        "    print(\"- Accuracy: {:.4f}\".format(model_train_accuracy))\n",
        "    print('- F1 score: {:.4f}'.format(model_train_f1))\n",
        "    print('- Precision: {:.4f}'.format(model_train_precision))\n",
        "    print('- Recall: {:.4f}'.format(model_train_recall))\n",
        "    print('- Confusion Matrix:')\n",
        "    print(model_train_conf_matrix)\n",
        "\n",
        "\n",
        "\n",
        "\n",
        "    print('----------------------------------')\n",
        "\n",
        "    print('Model performance for Test set')\n",
        "    print('- Accuracy: {:.4f}'.format(model_test_accuracy))\n",
        "    print('- F1 score: {:.4f}'.format(model_test_f1))\n",
        "    print('- Precision: {:.4f}'.format(model_test_precision))\n",
        "    print('- Recall: {:.4f}'.format(model_test_recall))\n",
        "    print('- Confusion Matrix:')\n",
        "    print(model_test_conf_matrix)\n",
        "\n",
        "\n",
        "\n",
        "    print('='*35)\n",
        "    print('\\n')"
      ]
    },
    {
      "cell_type": "code",
      "execution_count": 8,
      "metadata": {
        "id": "D8yCZVsZgNw9"
      },
      "outputs": [],
      "source": []
    },
    {
      "cell_type": "markdown",
      "metadata": {
        "id": "-84JICkFdJgv"
      },
      "source": [
        "### Hyperparameter Tuning With RandomizedSearchCV"
      ]
    },
    {
      "cell_type": "code",
      "execution_count": 12,
      "metadata": {
        "id": "jB2kiXS0ctXz"
      },
      "outputs": [],
      "source": [
        "logistic_params = {\n",
        "        'C': [0.1, 1],\n",
        "        'penalty': ['l2', 'none'],\n",
        "        'solver': ['lbfgs'],\n",
        "        'max_iter': [100, 200],\n",
        "        'multi_class': ['auto']\n",
        "}\n",
        "\n",
        "svm_params = {\n",
        "    'C': [0.1, 1],\n",
        "    'kernel': ['linear', 'rbf'],\n",
        "    'gamma': ['scale'],\n",
        "}\n",
        "\n",
        "dt_params = {\n",
        "    'criterion': ['gini', 'entropy'],\n",
        "    'max_depth': [5, 10, None],\n",
        "    'min_samples_split': [2, 5],\n",
        "    'min_samples_leaf': [1, 2],\n",
        "    'max_features': [None, 'sqrt']\n",
        "}"
      ]
    },
    {
      "cell_type": "code",
      "execution_count": 13,
      "metadata": {
        "id": "NQ9slzPZe0Zk"
      },
      "outputs": [],
      "source": [
        "# Models list for Hyperparameter tuning\n",
        "randomcv_models = [\n",
        "    (\"Logistic Regression\", LogisticRegression(), logistic_params),\n",
        "    (\"SVM\", SVC(), svm_params),\n",
        "    (\"Decision Tree\", DecisionTreeClassifier(), dt_params)\n",
        "]"
      ]
    },
    {
      "cell_type": "code",
      "execution_count": 14,
      "metadata": {
        "colab": {
          "base_uri": "https://localhost:8080/"
        },
        "id": "jqmt9PmSe3OX",
        "outputId": "db06c070-7fb3-42e3-8fb2-7b8a5f0e1dc0"
      },
      "outputs": [
        {
          "output_type": "stream",
          "name": "stdout",
          "text": [
            "\n",
            "Starting RandomizedSearchCV for Logistic Regression...\n",
            "Fitting 3 folds for each of 8 candidates, totalling 24 fits\n"
          ]
        },
        {
          "output_type": "stream",
          "name": "stderr",
          "text": [
            "/usr/local/lib/python3.11/dist-packages/sklearn/model_selection/_search.py:317: UserWarning: The total space of parameters 8 is smaller than n_iter=100. Running 8 iterations. For exhaustive searches, use GridSearchCV.\n",
            "  warnings.warn(\n",
            "/usr/local/lib/python3.11/dist-packages/sklearn/model_selection/_validation.py:528: FitFailedWarning: \n",
            "12 fits failed out of a total of 24.\n",
            "The score on these train-test partitions for these parameters will be set to nan.\n",
            "If these failures are not expected, you can try to debug them by setting error_score='raise'.\n",
            "\n",
            "Below are more details about the failures:\n",
            "--------------------------------------------------------------------------------\n",
            "6 fits failed with the following error:\n",
            "Traceback (most recent call last):\n",
            "  File \"/usr/local/lib/python3.11/dist-packages/sklearn/model_selection/_validation.py\", line 866, in _fit_and_score\n",
            "    estimator.fit(X_train, y_train, **fit_params)\n",
            "  File \"/usr/local/lib/python3.11/dist-packages/sklearn/base.py\", line 1382, in wrapper\n",
            "    estimator._validate_params()\n",
            "  File \"/usr/local/lib/python3.11/dist-packages/sklearn/base.py\", line 436, in _validate_params\n",
            "    validate_parameter_constraints(\n",
            "  File \"/usr/local/lib/python3.11/dist-packages/sklearn/utils/_param_validation.py\", line 98, in validate_parameter_constraints\n",
            "    raise InvalidParameterError(\n",
            "sklearn.utils._param_validation.InvalidParameterError: The 'penalty' parameter of LogisticRegression must be a str among {'l2', 'l1', 'elasticnet'} or None. Got 'none' instead.\n",
            "\n",
            "--------------------------------------------------------------------------------\n",
            "6 fits failed with the following error:\n",
            "Traceback (most recent call last):\n",
            "  File \"/usr/local/lib/python3.11/dist-packages/sklearn/model_selection/_validation.py\", line 866, in _fit_and_score\n",
            "    estimator.fit(X_train, y_train, **fit_params)\n",
            "  File \"/usr/local/lib/python3.11/dist-packages/sklearn/base.py\", line 1382, in wrapper\n",
            "    estimator._validate_params()\n",
            "  File \"/usr/local/lib/python3.11/dist-packages/sklearn/base.py\", line 436, in _validate_params\n",
            "    validate_parameter_constraints(\n",
            "  File \"/usr/local/lib/python3.11/dist-packages/sklearn/utils/_param_validation.py\", line 98, in validate_parameter_constraints\n",
            "    raise InvalidParameterError(\n",
            "sklearn.utils._param_validation.InvalidParameterError: The 'penalty' parameter of LogisticRegression must be a str among {'l1', 'l2', 'elasticnet'} or None. Got 'none' instead.\n",
            "\n",
            "  warnings.warn(some_fits_failed_message, FitFailedWarning)\n",
            "/usr/local/lib/python3.11/dist-packages/sklearn/model_selection/_search.py:1108: UserWarning: One or more of the test scores are non-finite: [0.91931667        nan 0.9194            nan 0.91813333        nan\n",
            " 0.91725           nan]\n",
            "  warnings.warn(\n",
            "/usr/local/lib/python3.11/dist-packages/sklearn/linear_model/_logistic.py:1247: FutureWarning: 'multi_class' was deprecated in version 1.5 and will be removed in 1.7. From then on, it will always use 'multinomial'. Leave it to its default value to avoid this warning.\n",
            "  warnings.warn(\n"
          ]
        },
        {
          "output_type": "stream",
          "name": "stdout",
          "text": [
            "\n",
            "Best parameters for Logistic Regression:\n",
            "{'solver': 'lbfgs', 'penalty': 'l2', 'multi_class': 'auto', 'max_iter': 200, 'C': 0.1}\n",
            "\n",
            "Starting RandomizedSearchCV for SVM...\n",
            "Fitting 3 folds for each of 4 candidates, totalling 12 fits\n"
          ]
        },
        {
          "output_type": "stream",
          "name": "stderr",
          "text": [
            "/usr/local/lib/python3.11/dist-packages/sklearn/model_selection/_search.py:317: UserWarning: The total space of parameters 4 is smaller than n_iter=100. Running 4 iterations. For exhaustive searches, use GridSearchCV.\n",
            "  warnings.warn(\n"
          ]
        },
        {
          "output_type": "stream",
          "name": "stdout",
          "text": [
            "\n",
            "Best parameters for SVM:\n",
            "{'kernel': 'rbf', 'gamma': 'scale', 'C': 1}\n",
            "\n",
            "Starting RandomizedSearchCV for Decision Tree...\n",
            "Fitting 3 folds for each of 48 candidates, totalling 144 fits\n"
          ]
        },
        {
          "output_type": "stream",
          "name": "stderr",
          "text": [
            "/usr/local/lib/python3.11/dist-packages/sklearn/model_selection/_search.py:317: UserWarning: The total space of parameters 48 is smaller than n_iter=100. Running 48 iterations. For exhaustive searches, use GridSearchCV.\n",
            "  warnings.warn(\n"
          ]
        },
        {
          "output_type": "stream",
          "name": "stdout",
          "text": [
            "\n",
            "Best parameters for Decision Tree:\n",
            "{'min_samples_split': 5, 'min_samples_leaf': 1, 'max_features': None, 'max_depth': None, 'criterion': 'entropy'}\n",
            "\n",
            "================= Final Best Parameters =================\n",
            "\n",
            "---------------- Best Params for Logistic Regression -------------------\n",
            "{'solver': 'lbfgs', 'penalty': 'l2', 'multi_class': 'auto', 'max_iter': 200, 'C': 0.1}\n",
            "\n",
            "---------------- Best Params for SVM -------------------\n",
            "{'kernel': 'rbf', 'gamma': 'scale', 'C': 1}\n",
            "\n",
            "---------------- Best Params for Decision Tree -------------------\n",
            "{'min_samples_split': 5, 'min_samples_leaf': 1, 'max_features': None, 'max_depth': None, 'criterion': 'entropy'}\n"
          ]
        }
      ],
      "source": [
        "# Dictionary to store best parameters\n",
        "model_param = {}\n",
        "\n",
        "for name, model, params in randomcv_models:\n",
        "    print(f\"\\nStarting RandomizedSearchCV for {name}...\")\n",
        "    random = RandomizedSearchCV(\n",
        "        estimator=model,\n",
        "        param_distributions=params,\n",
        "        n_iter=100,\n",
        "        cv=3,\n",
        "        verbose=2,\n",
        "        n_jobs=-1,\n",
        "        random_state=42\n",
        "    )\n",
        "\n",
        "    random.fit(X_train, y_train)\n",
        "    model_param[name] = random.best_params_\n",
        "\n",
        "    print(f\"\\nBest parameters for {name}:\")\n",
        "    print(random.best_params_)\n",
        "\n",
        "# Print all best parameters\n",
        "print(\"\\n================= Final Best Parameters =================\")\n",
        "for model_name in model_param:\n",
        "    print(f\"\\n---------------- Best Params for {model_name} -------------------\")\n",
        "    print(model_param[model_name])"
      ]
    },
    {
      "cell_type": "code",
      "execution_count": 15,
      "metadata": {
        "id": "QuWZ34tahbpD",
        "colab": {
          "base_uri": "https://localhost:8080/"
        },
        "outputId": "ea552828-7ea9-4201-ed5c-4ccaade4178a"
      },
      "outputs": [
        {
          "output_type": "stream",
          "name": "stderr",
          "text": [
            "/usr/local/lib/python3.11/dist-packages/sklearn/linear_model/_logistic.py:1247: FutureWarning: 'multi_class' was deprecated in version 1.5 and will be removed in 1.7. From then on, it will always use 'multinomial'. Leave it to its default value to avoid this warning.\n",
            "  warnings.warn(\n"
          ]
        },
        {
          "output_type": "stream",
          "name": "stdout",
          "text": [
            "Logisitic Regression\n",
            "Model performance for Training set\n",
            "- Accuracy: 0.9322\n",
            "- F1 score: 0.9321\n",
            "- Precision: 0.9320\n",
            "- Recall: 0.9322\n",
            "- Confusion Matrix:\n",
            "[[5758    1   18   10   11   41   37    7   36    4]\n",
            " [   1 6578   33   16    6   27    3   11   56   11]\n",
            " [  27   56 5415   88   66   25   60   67  128   26]\n",
            " [  17   26  121 5543    5  188   19   52  109   51]\n",
            " [  13   26   27    8 5491    7   51   13   33  173]\n",
            " [  49   26   39  151   51 4858   80   18  103   46]\n",
            " [  29   14   35    1   35   68 5707    3   24    2]\n",
            " [  11   26   58   21   45   11    4 5906   16  167]\n",
            " [  30  110   59  134   23  135   38   16 5240   66]\n",
            " [  23   30   15   70  138   33    2  159   43 5436]]\n",
            "----------------------------------\n",
            "Model performance for Test set\n",
            "- Accuracy: 0.9258\n",
            "- F1 score: 0.9256\n",
            "- Precision: 0.9257\n",
            "- Recall: 0.9258\n",
            "- Confusion Matrix:\n",
            "[[ 958    0    2    3    0    7    5    4    1    0]\n",
            " [   0 1113    2    2    0    1    4    2   11    0]\n",
            " [   6    8  927   15    8    3   13    8   37    7]\n",
            " [   3    1   15  921    0   26    3   11   21    9]\n",
            " [   1    2    5    2  918    0   10    3   10   31]\n",
            " [  10    2    2   36    9  775   15    8   30    5]\n",
            " [  10    3    6    2    8   14  911    2    2    0]\n",
            " [   1    8   23    7    9    1    0  948    1   30]\n",
            " [   6   10    7   20    9   24   11    9  867   11]\n",
            " [  11    8    1    8   25    7    0   22    7  920]]\n",
            "===================================\n",
            "\n",
            "\n",
            "Decision Tree\n",
            "Model performance for Training set\n",
            "- Accuracy: 0.9884\n",
            "- F1 score: 0.9884\n",
            "- Precision: 0.9884\n",
            "- Recall: 0.9884\n",
            "- Confusion Matrix:\n",
            "[[5905    1    2    1    0    2    2    0    8    2]\n",
            " [   5 6721    4    2    2    2    1    0    3    2]\n",
            " [  11    6 5905    7    2    1    7    6    8    5]\n",
            " [   8   13   20 6064    2    4    4    3    8    5]\n",
            " [   9    5   10   14 5776    5    6    4    5    8]\n",
            " [  19    6   15   21    6 5330    6    3   12    3]\n",
            " [  11    5   11   11   10   14 5847    2    6    1]\n",
            " [   8   12   14   16   11    3    4 6190    4    3]\n",
            " [  11   15   24   20   11   19   14   14 5716    7]\n",
            " [   5    4   12   15   19   13    5   10   16 5850]]\n",
            "----------------------------------\n",
            "Model performance for Test set\n",
            "- Accuracy: 0.8859\n",
            "- F1 score: 0.8858\n",
            "- Precision: 0.8859\n",
            "- Recall: 0.8859\n",
            "- Confusion Matrix:\n",
            "[[ 913    2    8    4    3   19   13    3   10    5]\n",
            " [   0 1103    8    3    1    6    4    3    5    2]\n",
            " [   5    3  915   22   11   11   18   18   22    7]\n",
            " [   8    9   26  865    7   42    5   12   20   16]\n",
            " [   6    4   19    8  859    8   16    9   18   35]\n",
            " [  15    7    9   36    5  753   20    3   25   19]\n",
            " [  21    6    9    6   22   20  860    4    8    2]\n",
            " [   2   12   33   18   13    6    2  920    5   17]\n",
            " [  10    5   20   43   24   20   12    7  811   22]\n",
            " [  10    6   10   24   35   20    3   19   22  860]]\n",
            "===================================\n",
            "\n",
            "\n",
            "SVC\n",
            "Model performance for Training set\n",
            "- Accuracy: 0.9899\n",
            "- F1 score: 0.9899\n",
            "- Precision: 0.9899\n",
            "- Recall: 0.9899\n",
            "- Confusion Matrix:\n",
            "[[5902    1    1    1    3    2    4    0    5    4]\n",
            " [   1 6705   11    1    4    0    1   10    3    6]\n",
            " [   5    5 5910    3   10    0    1   15    6    3]\n",
            " [   1    2   22 6032    0   23    1   18   20   12]\n",
            " [   2    9    5    0 5781    0    9    3    2   31]\n",
            " [   5    1    5   22    6 5361   13    0    4    4]\n",
            " [   8    2    1    0    5    4 5894    0    4    0]\n",
            " [   2   20   17    0   17    0    0 6182    3   24]\n",
            " [   3   14    9    8    6   12    2    5 5786    6]\n",
            " [   8    8    1   13   36    5    1   27    8 5842]]\n",
            "----------------------------------\n",
            "Model performance for Test set\n",
            "- Accuracy: 0.9792\n",
            "- F1 score: 0.9792\n",
            "- Precision: 0.9792\n",
            "- Recall: 0.9792\n",
            "- Confusion Matrix:\n",
            "[[ 973    0    1    0    0    2    1    1    2    0]\n",
            " [   0 1126    3    1    0    1    1    1    2    0]\n",
            " [   6    1 1006    2    1    0    2    7    6    1]\n",
            " [   0    0    2  995    0    2    0    5    5    1]\n",
            " [   0    0    5    0  961    0    3    0    2   11]\n",
            " [   2    0    0    9    0  871    4    1    4    1]\n",
            " [   6    2    0    0    2    3  944    0    1    0]\n",
            " [   0    6   11    1    1    0    0  996    2   11]\n",
            " [   3    0    2    6    3    2    2    3  950    3]\n",
            " [   3    4    1    7   10    2    1    7    4  970]]\n",
            "===================================\n",
            "\n",
            "\n"
          ]
        }
      ],
      "source": [
        "models={\n",
        "    \"Logisitic Regression\":LogisticRegression(solver='lbfgs',\n",
        "        penalty='l2',\n",
        "        multi_class='auto',\n",
        "        max_iter=200,\n",
        "        C=0.1),\n",
        "    \"Decision Tree\":DecisionTreeClassifier( min_samples_split=5,\n",
        "        min_samples_leaf=1,\n",
        "        max_features=None,\n",
        "        max_depth=None,\n",
        "        criterion='entropy'),\n",
        "    \"SVC\": SVC(kernel='rbf',\n",
        "        gamma='scale',\n",
        "        C=1)\n",
        "}\n",
        "for i in range(len(list(models))):\n",
        "    model = list(models.values())[i]\n",
        "    model.fit(X_train, y_train) # Train model\n",
        "\n",
        "    # Make predictions\n",
        "    y_train_pred = model.predict(X_train)\n",
        "    y_test_pred = model.predict(X_test)\n",
        "\n",
        "    # Training set performance\n",
        "    model_train_accuracy = accuracy_score(y_train, y_train_pred) # Calculate Accuracy\n",
        "    model_train_f1 = f1_score(y_train, y_train_pred, average='weighted') # Calculate F1-score\n",
        "    model_train_precision = precision_score(y_train, y_train_pred, average='weighted')\n",
        "    model_train_recall = recall_score(y_train, y_train_pred, average='weighted')\n",
        "    model_train_conf_matrix = confusion_matrix(y_train, y_train_pred)\n",
        "\n",
        "    # Test set performance\n",
        "    model_test_accuracy = accuracy_score(y_test, y_test_pred) # Calculate Accuracy\n",
        "    model_test_f1 = f1_score(y_test, y_test_pred, average='weighted') # Calculate F1-score\n",
        "    model_test_precision = precision_score(y_test, y_test_pred, average='weighted')\n",
        "    model_test_recall = recall_score(y_test, y_test_pred, average='weighted')\n",
        "    model_test_conf_matrix = confusion_matrix(y_test, y_test_pred)\n",
        "\n",
        "\n",
        "    print(list(models.keys())[i])\n",
        "\n",
        "    print('Model performance for Training set')\n",
        "    print(\"- Accuracy: {:.4f}\".format(model_train_accuracy))\n",
        "    print('- F1 score: {:.4f}'.format(model_train_f1))\n",
        "    print('- Precision: {:.4f}'.format(model_train_precision))\n",
        "    print('- Recall: {:.4f}'.format(model_train_recall))\n",
        "    print('- Confusion Matrix:')\n",
        "    print(model_train_conf_matrix)\n",
        "\n",
        "\n",
        "\n",
        "\n",
        "    print('----------------------------------')\n",
        "\n",
        "    print('Model performance for Test set')\n",
        "    print('- Accuracy: {:.4f}'.format(model_test_accuracy))\n",
        "    print('- F1 score: {:.4f}'.format(model_test_f1))\n",
        "    print('- Precision: {:.4f}'.format(model_test_precision))\n",
        "    print('- Recall: {:.4f}'.format(model_test_recall))\n",
        "    print('- Confusion Matrix:')\n",
        "    print(model_test_conf_matrix)\n",
        "\n",
        "\n",
        "\n",
        "    print('='*35)\n",
        "    print('\\n')"
      ]
    },
    {
      "cell_type": "markdown",
      "metadata": {
        "id": "dyj50HgVhdPF"
      },
      "source": [
        "### Testing Evaluation with Bootstrapping"
      ]
    },
    {
      "cell_type": "code",
      "execution_count": 20,
      "metadata": {
        "id": "JQebGUvWiVc0"
      },
      "outputs": [],
      "source": [
        "\n",
        "\n",
        "def bootstrap_evaluation(model, X_test, y_test, n_iterations=100):\n",
        "    \"\"\"\n",
        "    Perform bootstrap evaluation of a model and compute 95% confidence intervals\n",
        "    \"\"\"\n",
        "    metrics = {\n",
        "        'accuracy': [],\n",
        "        'precision': [],\n",
        "        'recall': [],\n",
        "        'f1': [],\n",
        "        'roc_auc': []\n",
        "    }\n",
        "\n",
        "    has_proba = hasattr(model, \"predict_proba\")\n",
        "\n",
        "    for _ in range(n_iterations):\n",
        "        # Resample with replacement\n",
        "        X_resampled, y_resampled = resample(X_test, y_test, replace=True)\n",
        "\n",
        "        # Predictions\n",
        "        y_pred = model.predict(X_resampled)\n",
        "\n",
        "        # Metrics\n",
        "        metrics['accuracy'].append(accuracy_score(y_resampled, y_pred))\n",
        "        metrics['precision'].append(precision_score(y_resampled, y_pred, average='weighted'))\n",
        "        metrics['recall'].append(recall_score(y_resampled, y_pred, average='weighted'))\n",
        "        metrics['f1'].append(f1_score(y_resampled, y_pred, average='weighted'))\n",
        "\n",
        "        # ROC AUC only if possible\n",
        "        if has_proba:\n",
        "            y_proba = model.predict_proba(X_resampled)\n",
        "            metrics['roc_auc'].append(roc_auc_score(y_resampled, y_proba, multi_class='ovr'))\n",
        "\n",
        "    # Remove ROC AUC if we couldn't compute it\n",
        "    if not has_proba:\n",
        "        metrics.pop('roc_auc')\n",
        "\n",
        "    # Statistics\n",
        "    results = {}\n",
        "    for metric, values in metrics.items():\n",
        "        mean_score = np.mean(values)\n",
        "        std_dev = np.std(values)\n",
        "        ci_lower = np.percentile(values, 2.5)\n",
        "        ci_upper = np.percentile(values, 97.5)\n",
        "\n",
        "        results[metric] = {\n",
        "            'mean': mean_score,\n",
        "            'std': std_dev,\n",
        "            'ci_lower': ci_lower,\n",
        "            'ci_upper': ci_upper\n",
        "        }\n",
        "\n",
        "    return results\n"
      ]
    },
    {
      "cell_type": "code",
      "execution_count": 22,
      "metadata": {
        "id": "-Rc7asD_itrp",
        "colab": {
          "base_uri": "https://localhost:8080/"
        },
        "outputId": "2faa9b37-1839-44d2-8ab9-8910fe15dc38"
      },
      "outputs": [
        {
          "output_type": "stream",
          "name": "stdout",
          "text": [
            "\n",
            "Running bootstrap evaluation for Logisitic Regression...\n",
            "\n",
            "Running bootstrap evaluation for Decision Tree...\n",
            "\n",
            "Running bootstrap evaluation for SVC...\n",
            "\n",
            "================ Bootstrap Evaluation Results ================\n",
            "\n",
            "----- Logisitic Regression -----\n",
            "ACCURACY  : 0.9256 ± 0.0025\n",
            "          95% CI: [0.9207, 0.9300]\n",
            "PRECISION : 0.9256 ± 0.0025\n",
            "          95% CI: [0.9207, 0.9302]\n",
            "RECALL    : 0.9256 ± 0.0025\n",
            "          95% CI: [0.9207, 0.9300]\n",
            "F1        : 0.9254 ± 0.0025\n",
            "          95% CI: [0.9206, 0.9299]\n",
            "ROC_AUC   : 0.9941 ± 0.0004\n",
            "          95% CI: [0.9932, 0.9948]\n",
            "\n",
            "----- Decision Tree -----\n",
            "ACCURACY  : 0.8858 ± 0.0034\n",
            "          95% CI: [0.8796, 0.8925]\n",
            "PRECISION : 0.8859 ± 0.0034\n",
            "          95% CI: [0.8798, 0.8926]\n",
            "RECALL    : 0.8858 ± 0.0034\n",
            "          95% CI: [0.8796, 0.8925]\n",
            "F1        : 0.8857 ± 0.0034\n",
            "          95% CI: [0.8796, 0.8923]\n",
            "ROC_AUC   : 0.9404 ± 0.0018\n",
            "          95% CI: [0.9369, 0.9436]\n",
            "\n",
            "----- SVC -----\n",
            "ACCURACY  : 0.9791 ± 0.0014\n",
            "          95% CI: [0.9764, 0.9818]\n",
            "PRECISION : 0.9791 ± 0.0014\n",
            "          95% CI: [0.9765, 0.9818]\n",
            "RECALL    : 0.9791 ± 0.0014\n",
            "          95% CI: [0.9764, 0.9818]\n",
            "F1        : 0.9791 ± 0.0014\n",
            "          95% CI: [0.9764, 0.9817]\n"
          ]
        }
      ],
      "source": [
        "# Dictionary to store bootstrap results\n",
        "bootstrap_results = {}\n",
        "\n",
        "# Evaluate each model with bootstrapping\n",
        "for name, model in models.items():  # using your tuned models dictionary\n",
        "    print(f\"\\nRunning bootstrap evaluation for {name}...\")\n",
        "    bootstrap_results[name] = bootstrap_evaluation(model, X_test, y_test, n_iterations=100)\n",
        "\n",
        "# Print results\n",
        "print(\"\\n================ Bootstrap Evaluation Results ================\")\n",
        "for model_name, metrics in bootstrap_results.items():\n",
        "    print(f\"\\n----- {model_name} -----\")\n",
        "    for metric, stats in metrics.items():\n",
        "        print(f\"{metric.upper():<10}: {stats['mean']:.4f} ± {stats['std']:.4f}\")\n",
        "        print(f\"          95% CI: [{stats['ci_lower']:.4f}, {stats['ci_upper']:.4f}]\")\n"
      ]
    }
  ],
  "metadata": {
    "colab": {
      "provenance": []
    },
    "kernelspec": {
      "display_name": "Python 3",
      "name": "python3"
    },
    "language_info": {
      "name": "python"
    }
  },
  "nbformat": 4,
  "nbformat_minor": 0
}